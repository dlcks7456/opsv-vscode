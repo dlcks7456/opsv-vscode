{
 "cells": [
  {
   "cell_type": "code",
   "execution_count": 1,
   "id": "32f3bcd1",
   "metadata": {},
   "outputs": [],
   "source": [
    "from beluga import *\n",
    "\n",
    "bl = Beluga(config=BelugaConfig(\n",
    "    etc_text='기타(직접 입력)',\n",
    "    default_rotation=False,\n",
    "    dropdown_placeholder='하나 선택...',\n",
    "    total_text='합계',\n",
    "    display=True\n",
    "))"
   ]
  },
  {
   "cell_type": "code",
   "execution_count": null,
   "id": "a3ea1cec",
   "metadata": {},
   "outputs": [],
   "source": [
    "Q1 = bl.sa(\n",
    "    qid='Q1',\n",
    "    title=f'''\n",
    "TEST 타이틀 <span style=\"color: #1446be;font-weight: bold;\">하하</span>\n",
    "<span style=\"background-color: #c2f1ff;\"><b>안녕하세요</b></span>\n",
    "    ''',\n",
    "    options = {\n",
    "\t1: \"보기 1\",\n",
    "\t2: \"보기 2\",\n",
    "\t3: \"보기 3\",\n",
    "\t},\n",
    "    etc=False,\n",
    "    na=None,\n",
    "    rotation=False\n",
    ")"
   ]
  },
  {
   "cell_type": "code",
   "execution_count": null,
   "id": "13bc77cf",
   "metadata": {},
   "outputs": [],
   "source": []
  },
  {
   "cell_type": "code",
   "execution_count": null,
   "id": "06c00099",
   "metadata": {},
   "outputs": [],
   "source": []
  },
  {
   "cell_type": "code",
   "execution_count": null,
   "id": "285538d7",
   "metadata": {},
   "outputs": [],
   "source": []
  }
 ],
 "metadata": {
  "kernelspec": {
   "display_name": "Python 3",
   "language": "python",
   "name": "python3"
  },
  "language_info": {
   "codemirror_mode": {
    "name": "ipython",
    "version": 3
   },
   "file_extension": ".py",
   "mimetype": "text/x-python",
   "name": "python",
   "nbconvert_exporter": "python",
   "pygments_lexer": "ipython3",
   "version": "3.13.2"
  }
 },
 "nbformat": 4,
 "nbformat_minor": 5
}
